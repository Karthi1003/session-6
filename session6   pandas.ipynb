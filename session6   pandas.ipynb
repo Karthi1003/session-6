{
 "cells": [
  {
   "cell_type": "code",
   "execution_count": 56,
   "id": "df62e004",
   "metadata": {},
   "outputs": [
    {
     "data": {
      "text/plain": [
       "0    12\n",
       "1    23\n",
       "2    34\n",
       "3    45\n",
       "4    56\n",
       "5    78\n",
       "dtype: int64"
      ]
     },
     "execution_count": 56,
     "metadata": {},
     "output_type": "execute_result"
    }
   ],
   "source": [
    "import pandas as pd\n",
    "list=[12,23,34,45,56,78]\n",
    "series1=pd.Series(list1)\n",
    "series1"
   ]
  },
  {
   "cell_type": "code",
   "execution_count": 57,
   "id": "95207fd8",
   "metadata": {},
   "outputs": [
    {
     "data": {
      "text/plain": [
       "0       this\n",
       "1         is\n",
       "2        dsa\n",
       "3    session\n",
       "dtype: object"
      ]
     },
     "execution_count": 57,
     "metadata": {},
     "output_type": "execute_result"
    }
   ],
   "source": [
    "list2=['this','is','dsa','session']\n",
    "series2=pd.Series(list2)\n",
    "series2"
   ]
  },
  {
   "cell_type": "code",
   "execution_count": 58,
   "id": "6f47995e",
   "metadata": {},
   "outputs": [
    {
     "data": {
      "text/plain": [
       "0    78\n",
       "1    34\n",
       "2    34\n",
       "3    45\n",
       "4    56\n",
       "dtype: int32"
      ]
     },
     "execution_count": 58,
     "metadata": {},
     "output_type": "execute_result"
    }
   ],
   "source": [
    "import numpy as np\n",
    "data=np.array([78,34,34,45,56])\n",
    "series3=pd.Series(data)\n",
    "series3"
   ]
  },
  {
   "cell_type": "code",
   "execution_count": 59,
   "id": "4edf62db",
   "metadata": {},
   "outputs": [
    {
     "data": {
      "text/plain": [
       "45"
      ]
     },
     "execution_count": 59,
     "metadata": {},
     "output_type": "execute_result"
    }
   ],
   "source": [
    "series1[3]"
   ]
  },
  {
   "cell_type": "code",
   "execution_count": 60,
   "id": "2b1c2185",
   "metadata": {},
   "outputs": [
    {
     "data": {
      "text/plain": [
       "1    23\n",
       "2    34\n",
       "3    45\n",
       "dtype: int64"
      ]
     },
     "execution_count": 60,
     "metadata": {},
     "output_type": "execute_result"
    }
   ],
   "source": [
    "series1[1:4]"
   ]
  },
  {
   "cell_type": "code",
   "execution_count": 61,
   "id": "d96a3aab",
   "metadata": {},
   "outputs": [
    {
     "data": {
      "text/plain": [
       "0    12\n",
       "2    34\n",
       "4    56\n",
       "dtype: int64"
      ]
     },
     "execution_count": 61,
     "metadata": {},
     "output_type": "execute_result"
    }
   ],
   "source": [
    "series1[::2]"
   ]
  },
  {
   "cell_type": "code",
   "execution_count": 63,
   "id": "c02b5b43",
   "metadata": {},
   "outputs": [
    {
     "data": {
      "text/plain": [
       "one      12\n",
       "two      23\n",
       "three    34\n",
       "four     45\n",
       "five     56\n",
       "six      78\n",
       "dtype: int64"
      ]
     },
     "execution_count": 63,
     "metadata": {},
     "output_type": "execute_result"
    }
   ],
   "source": [
    "series_1=pd.Series(list1,index=['one','two','three','four','five','six'])\n",
    "series_1"
   ]
  },
  {
   "cell_type": "code",
   "execution_count": 64,
   "id": "fe079926",
   "metadata": {},
   "outputs": [
    {
     "data": {
      "text/plain": [
       "34"
      ]
     },
     "execution_count": 64,
     "metadata": {},
     "output_type": "execute_result"
    }
   ],
   "source": [
    "series_1['three']"
   ]
  },
  {
   "cell_type": "code",
   "execution_count": 65,
   "id": "12f015e8",
   "metadata": {},
   "outputs": [
    {
     "data": {
      "text/plain": [
       "one      False\n",
       "two      False\n",
       "three    False\n",
       "four      True\n",
       "five      True\n",
       "six       True\n",
       "dtype: bool"
      ]
     },
     "execution_count": 65,
     "metadata": {},
     "output_type": "execute_result"
    }
   ],
   "source": [
    "series_1>40"
   ]
  },
  {
   "cell_type": "code",
   "execution_count": 67,
   "id": "be38278d",
   "metadata": {},
   "outputs": [
    {
     "data": {
      "text/plain": [
       "four    45\n",
       "five    56\n",
       "six     78\n",
       "dtype: int64"
      ]
     },
     "execution_count": 67,
     "metadata": {},
     "output_type": "execute_result"
    }
   ],
   "source": [
    "series_1[series_1>40]"
   ]
  },
  {
   "cell_type": "code",
   "execution_count": 68,
   "id": "11834896",
   "metadata": {},
   "outputs": [
    {
     "data": {
      "text/plain": [
       "12"
      ]
     },
     "execution_count": 68,
     "metadata": {},
     "output_type": "execute_result"
    }
   ],
   "source": [
    "series1.min()"
   ]
  },
  {
   "cell_type": "code",
   "execution_count": 69,
   "id": "211a2e32",
   "metadata": {},
   "outputs": [
    {
     "data": {
      "text/plain": [
       "78"
      ]
     },
     "execution_count": 69,
     "metadata": {},
     "output_type": "execute_result"
    }
   ],
   "source": [
    "series1.max()"
   ]
  },
  {
   "cell_type": "code",
   "execution_count": 71,
   "id": "69443d1b",
   "metadata": {},
   "outputs": [
    {
     "data": {
      "text/plain": [
       "2    34\n",
       "3    45\n",
       "dtype: int64"
      ]
     },
     "execution_count": 71,
     "metadata": {},
     "output_type": "execute_result"
    }
   ],
   "source": [
    "series1[(series1>25)&(series1<50)]"
   ]
  },
  {
   "cell_type": "code",
   "execution_count": 72,
   "id": "287048cf",
   "metadata": {},
   "outputs": [
    {
     "data": {
      "text/plain": [
       "0    22\n",
       "1    33\n",
       "2    44\n",
       "3    55\n",
       "4    66\n",
       "5    88\n",
       "dtype: int64"
      ]
     },
     "execution_count": 72,
     "metadata": {},
     "output_type": "execute_result"
    }
   ],
   "source": [
    "series1+10"
   ]
  },
  {
   "cell_type": "code",
   "execution_count": 73,
   "id": "468c8a79",
   "metadata": {},
   "outputs": [
    {
     "data": {
      "text/plain": [
       "0    120\n",
       "1    230\n",
       "2    340\n",
       "3    450\n",
       "4    560\n",
       "5    780\n",
       "dtype: int64"
      ]
     },
     "execution_count": 73,
     "metadata": {},
     "output_type": "execute_result"
    }
   ],
   "source": [
    "series1*10"
   ]
  },
  {
   "cell_type": "code",
   "execution_count": 74,
   "id": "dc5b09be",
   "metadata": {},
   "outputs": [
    {
     "data": {
      "text/plain": [
       "ram      45\n",
       "rishi    46\n",
       "vicky    37\n",
       "nakul    40\n",
       "dtype: int64"
      ]
     },
     "execution_count": 74,
     "metadata": {},
     "output_type": "execute_result"
    }
   ],
   "source": [
    "data={'ram':45,'rishi':46,'vicky':37,'nakul':40}\n",
    "marks=pd.Series(data)\n",
    "marks"
   ]
  },
  {
   "cell_type": "code",
   "execution_count": 75,
   "id": "04935959",
   "metadata": {},
   "outputs": [
    {
     "data": {
      "text/plain": [
       "ram       45.0\n",
       "vicky     37.0\n",
       "nakul     40.0\n",
       "rohit      NaN\n",
       "vihaan     NaN\n",
       "rishi     46.0\n",
       "dtype: float64"
      ]
     },
     "execution_count": 75,
     "metadata": {},
     "output_type": "execute_result"
    }
   ],
   "source": [
    "name={'nakul','ram','rishi','rohit','vihaan','vicky'}\n",
    "marks1=pd.Series(data,index=name)\n",
    "marks1"
   ]
  },
  {
   "cell_type": "code",
   "execution_count": null,
   "id": "0fef0c67",
   "metadata": {},
   "outputs": [],
   "source": []
  }
 ],
 "metadata": {
  "kernelspec": {
   "display_name": "Python 3 (ipykernel)",
   "language": "python",
   "name": "python3"
  },
  "language_info": {
   "codemirror_mode": {
    "name": "ipython",
    "version": 3
   },
   "file_extension": ".py",
   "mimetype": "text/x-python",
   "name": "python",
   "nbconvert_exporter": "python",
   "pygments_lexer": "ipython3",
   "version": "3.9.12"
  }
 },
 "nbformat": 4,
 "nbformat_minor": 5
}
